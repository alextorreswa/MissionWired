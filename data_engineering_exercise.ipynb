{
 "cells": [
  {
   "cell_type": "markdown",
   "source": [
    "# MissionWired Hiring\n",
    "### Data Engineer Exercise\n",
    "\n",
    "The purpose of this exercise is to evaluate your level of skill when it comes to manipulating and aggregating a large dataset through code. We’ll evaluate the quality, output and readability of your code as well as the efficacy of provided documentation.\n",
    "\n",
    "We recommend using Python and Pandas to complete this exercise. Most of our production data engineering work is done using Python, Pandas and PySpark (a “big data” alternative to Pandas).\n",
    "\n",
    "We recommend submitting your code by way of a personal GitHub repository. Directly submitting code files is also acceptable.\n",
    "\n",
    "Draft documentation describing how a reviewer can run your app locally. Be sure to include steps like installing dependencies or other “pre-flight” configurations necessary for your code to run.\n",
    "\n",
    "## Dataset\n",
    "\n",
    "A dataset simulating CRM data is available in some public AWS S3 files:\n",
    "\n",
    "* Constituent Information: https://als-hiring.s3.amazonaws.com/fake_data/2020-07-01_17%3A11%3A00/cons.csv\n",
    "* Constituent Email Addresses: https://als-hiring.s3.amazonaws.com/fake_data/2020-07-01_17%3A11%3A00/cons_email.csv\n",
    "    - Boolean columns (including is_primary) in all of these datasets are 1/0 numeric values. 1 means True, 0 means False.\n",
    "* Constituent Subscription Status: https://als-hiring.s3.amazonaws.com/fake_data/2020-07-01_17%3A11%3A00/cons_email_chapter_subscription.csv\n",
    "    - We only care about subscription statuses where chapter_id is 1.\n",
    "    - If an email is not present in this table, it is assumed to still be subscribed where chapter_id is 1.\n",
    "\n",
    "Use these files to complete the exercises below.\n"
   ],
   "metadata": {
    "collapsed": false,
    "pycharm": {
     "name": "#%% md\n"
    }
   }
  },
  {
   "cell_type": "markdown",
   "source": [
    "# 0. Load Data\n",
    "Three dataframes were created from the data coming from the three .CSV files"
   ],
   "metadata": {
    "collapsed": false,
    "pycharm": {
     "name": "#%% md\n"
    }
   }
  },
  {
   "cell_type": "code",
   "execution_count": 20,
   "outputs": [],
   "source": [
    "import pandas as pd\n",
    "cons = pd.read_csv('https://als-hiring.s3.amazonaws.com/fake_data/2020-07-01_17%3A11%3A00/cons.csv')\n",
    "cons_email = pd.read_csv('https://als-hiring.s3.amazonaws.com/fake_data/2020-07-01_17%3A11%3A00/cons_email.csv')\n",
    "cons_email_chapter_subscription = pd.read_csv('https://als-hiring.s3.amazonaws.com/fake_data/2020-07-01_17%3A11%3A00/cons_email_chapter_subscription.csv')\n",
    "\n",
    "# uncomment if you download the csv files to the working directory\n",
    "# cons = pd.read_csv('cons.csv')\n",
    "# cons_email = pd.read_csv('cons_email.csv')\n",
    "# cons_email_chapter_subscription = pd.read_csv('cons_email_chapter_subscription.csv')"
   ],
   "metadata": {
    "collapsed": false,
    "pycharm": {
     "name": "#%%\n"
    }
   }
  },
  {
   "cell_type": "markdown",
   "source": [
    "Dataframes were explored"
   ],
   "metadata": {
    "collapsed": false,
    "pycharm": {
     "name": "#%% md\n"
    }
   }
  },
  {
   "cell_type": "code",
   "execution_count": 21,
   "outputs": [
    {
     "name": "stdout",
     "output_type": "stream",
     "text": [
      "(700000, 29)\n"
     ]
    },
    {
     "data": {
      "text/plain": "   cons_id prefix  firstname middlename lastname suffix            salutation  \\\n0        1    NaN        NaN        Lee      NaN     MD                   NaN   \n1        2    NaN        NaN        NaN      NaN     II  boFqBKgLlSgEZsFrgCZd   \n2        3    NaN        NaN      David     King    NaN                   NaN   \n3        4    Ms.       Mark      Gregg      NaN    NaN                   NaN   \n4        5    NaN        NaN      Logan      NaN    DDS  ArvPJuEozHPaqbirovMi   \n5        6    NaN        NaN        NaN     Holt    NaN                   NaN   \n6        7    Mr.  Alexandra      Brian  Baldwin    DVM                   NaN   \n7        8    NaN    Charles     Teresa   Glover    PhD                   NaN   \n8        9    NaN      Holly      David      NaN    NaN                   NaN   \n9       10    NaN       Chad        NaN      NaN    DVM  YupmMCKEGDZOxnqeIjha   \n\n  gender         birth_dt                 title  ...  \\\n0      E              NaN  vSkSIzEQJdXnqeTTTXSG  ...   \n1      E  Mon, 2004-11-15                   NaN  ...   \n2      D  Fri, 1994-04-08  bxGxufoNzpKvjwNIxgRj  ...   \n3      J              NaN                   NaN  ...   \n4      D  Sun, 2008-08-10  kXKlKCyCBoXUBVejPOVO  ...   \n5      K  Tue, 2003-07-15  DBEfLmqhahjEXOXjLHpF  ...   \n6      X              NaN                   NaN  ...   \n7      O  Mon, 1977-04-04                   NaN  ...   \n8      K              NaN                   NaN  ...   \n9    NaN              NaN                   NaN  ...   \n\n  change_password_next_login consent_type_id                 create_dt  \\\n0                          0            5958  Fri, 1983-08-26 06:02:03   \n1                          1            4236  Mon, 1979-03-05 21:08:54   \n2                          1            1263  Fri, 2008-08-22 19:20:28   \n3                          0             949  Sun, 1984-04-29 11:18:18   \n4                          0            7126  Thu, 2007-07-19 18:28:09   \n5                          1            9079  Sat, 2014-02-15 22:54:27   \n6                          1            5809  Thu, 1979-03-01 16:12:55   \n7                          0            1416  Tue, 2002-07-30 22:28:38   \n8                          0            5614  Thu, 2019-08-29 14:50:24   \n9                          0            7669  Tue, 1987-02-17 11:22:04   \n\n  create_app create_user               modified_dt modified_app  \\\n0       1484        6162  Sun, 2015-12-27 09:28:02         4022   \n1       4176        5476  Tue, 1989-06-20 13:28:57         9010   \n2       4702        8239  Fri, 2020-06-05 18:13:57         8837   \n3       7096        7875  Tue, 2012-01-31 07:26:35         7529   \n4        706        5727  Tue, 1971-04-27 06:53:53         9356   \n5       7328        6425  Fri, 1999-11-12 06:09:25         2118   \n6       9610        6785  Wed, 2019-03-13 02:52:10         1680   \n7       8257         542  Sat, 1983-07-16 18:30:07         1429   \n8       4561        1718  Sun, 2009-12-20 14:50:14         3368   \n9       8761        1288  Sat, 2016-03-19 17:33:38         1405   \n\n   modified_user  status                              note  \n0           6349       1                               NaN  \n1           5698       1                               NaN  \n2           1175       1                               NaN  \n3           3984       1                               NaN  \n4           6062       1                               NaN  \n5           2494       0  productize customized e-services  \n6           1864       1                               NaN  \n7           3195       1    evolve real-time relationships  \n8           1975       1                               NaN  \n9           5181       1                               NaN  \n\n[10 rows x 29 columns]",
      "text/html": "<div>\n<style scoped>\n    .dataframe tbody tr th:only-of-type {\n        vertical-align: middle;\n    }\n\n    .dataframe tbody tr th {\n        vertical-align: top;\n    }\n\n    .dataframe thead th {\n        text-align: right;\n    }\n</style>\n<table border=\"1\" class=\"dataframe\">\n  <thead>\n    <tr style=\"text-align: right;\">\n      <th></th>\n      <th>cons_id</th>\n      <th>prefix</th>\n      <th>firstname</th>\n      <th>middlename</th>\n      <th>lastname</th>\n      <th>suffix</th>\n      <th>salutation</th>\n      <th>gender</th>\n      <th>birth_dt</th>\n      <th>title</th>\n      <th>...</th>\n      <th>change_password_next_login</th>\n      <th>consent_type_id</th>\n      <th>create_dt</th>\n      <th>create_app</th>\n      <th>create_user</th>\n      <th>modified_dt</th>\n      <th>modified_app</th>\n      <th>modified_user</th>\n      <th>status</th>\n      <th>note</th>\n    </tr>\n  </thead>\n  <tbody>\n    <tr>\n      <th>0</th>\n      <td>1</td>\n      <td>NaN</td>\n      <td>NaN</td>\n      <td>Lee</td>\n      <td>NaN</td>\n      <td>MD</td>\n      <td>NaN</td>\n      <td>E</td>\n      <td>NaN</td>\n      <td>vSkSIzEQJdXnqeTTTXSG</td>\n      <td>...</td>\n      <td>0</td>\n      <td>5958</td>\n      <td>Fri, 1983-08-26 06:02:03</td>\n      <td>1484</td>\n      <td>6162</td>\n      <td>Sun, 2015-12-27 09:28:02</td>\n      <td>4022</td>\n      <td>6349</td>\n      <td>1</td>\n      <td>NaN</td>\n    </tr>\n    <tr>\n      <th>1</th>\n      <td>2</td>\n      <td>NaN</td>\n      <td>NaN</td>\n      <td>NaN</td>\n      <td>NaN</td>\n      <td>II</td>\n      <td>boFqBKgLlSgEZsFrgCZd</td>\n      <td>E</td>\n      <td>Mon, 2004-11-15</td>\n      <td>NaN</td>\n      <td>...</td>\n      <td>1</td>\n      <td>4236</td>\n      <td>Mon, 1979-03-05 21:08:54</td>\n      <td>4176</td>\n      <td>5476</td>\n      <td>Tue, 1989-06-20 13:28:57</td>\n      <td>9010</td>\n      <td>5698</td>\n      <td>1</td>\n      <td>NaN</td>\n    </tr>\n    <tr>\n      <th>2</th>\n      <td>3</td>\n      <td>NaN</td>\n      <td>NaN</td>\n      <td>David</td>\n      <td>King</td>\n      <td>NaN</td>\n      <td>NaN</td>\n      <td>D</td>\n      <td>Fri, 1994-04-08</td>\n      <td>bxGxufoNzpKvjwNIxgRj</td>\n      <td>...</td>\n      <td>1</td>\n      <td>1263</td>\n      <td>Fri, 2008-08-22 19:20:28</td>\n      <td>4702</td>\n      <td>8239</td>\n      <td>Fri, 2020-06-05 18:13:57</td>\n      <td>8837</td>\n      <td>1175</td>\n      <td>1</td>\n      <td>NaN</td>\n    </tr>\n    <tr>\n      <th>3</th>\n      <td>4</td>\n      <td>Ms.</td>\n      <td>Mark</td>\n      <td>Gregg</td>\n      <td>NaN</td>\n      <td>NaN</td>\n      <td>NaN</td>\n      <td>J</td>\n      <td>NaN</td>\n      <td>NaN</td>\n      <td>...</td>\n      <td>0</td>\n      <td>949</td>\n      <td>Sun, 1984-04-29 11:18:18</td>\n      <td>7096</td>\n      <td>7875</td>\n      <td>Tue, 2012-01-31 07:26:35</td>\n      <td>7529</td>\n      <td>3984</td>\n      <td>1</td>\n      <td>NaN</td>\n    </tr>\n    <tr>\n      <th>4</th>\n      <td>5</td>\n      <td>NaN</td>\n      <td>NaN</td>\n      <td>Logan</td>\n      <td>NaN</td>\n      <td>DDS</td>\n      <td>ArvPJuEozHPaqbirovMi</td>\n      <td>D</td>\n      <td>Sun, 2008-08-10</td>\n      <td>kXKlKCyCBoXUBVejPOVO</td>\n      <td>...</td>\n      <td>0</td>\n      <td>7126</td>\n      <td>Thu, 2007-07-19 18:28:09</td>\n      <td>706</td>\n      <td>5727</td>\n      <td>Tue, 1971-04-27 06:53:53</td>\n      <td>9356</td>\n      <td>6062</td>\n      <td>1</td>\n      <td>NaN</td>\n    </tr>\n    <tr>\n      <th>5</th>\n      <td>6</td>\n      <td>NaN</td>\n      <td>NaN</td>\n      <td>NaN</td>\n      <td>Holt</td>\n      <td>NaN</td>\n      <td>NaN</td>\n      <td>K</td>\n      <td>Tue, 2003-07-15</td>\n      <td>DBEfLmqhahjEXOXjLHpF</td>\n      <td>...</td>\n      <td>1</td>\n      <td>9079</td>\n      <td>Sat, 2014-02-15 22:54:27</td>\n      <td>7328</td>\n      <td>6425</td>\n      <td>Fri, 1999-11-12 06:09:25</td>\n      <td>2118</td>\n      <td>2494</td>\n      <td>0</td>\n      <td>productize customized e-services</td>\n    </tr>\n    <tr>\n      <th>6</th>\n      <td>7</td>\n      <td>Mr.</td>\n      <td>Alexandra</td>\n      <td>Brian</td>\n      <td>Baldwin</td>\n      <td>DVM</td>\n      <td>NaN</td>\n      <td>X</td>\n      <td>NaN</td>\n      <td>NaN</td>\n      <td>...</td>\n      <td>1</td>\n      <td>5809</td>\n      <td>Thu, 1979-03-01 16:12:55</td>\n      <td>9610</td>\n      <td>6785</td>\n      <td>Wed, 2019-03-13 02:52:10</td>\n      <td>1680</td>\n      <td>1864</td>\n      <td>1</td>\n      <td>NaN</td>\n    </tr>\n    <tr>\n      <th>7</th>\n      <td>8</td>\n      <td>NaN</td>\n      <td>Charles</td>\n      <td>Teresa</td>\n      <td>Glover</td>\n      <td>PhD</td>\n      <td>NaN</td>\n      <td>O</td>\n      <td>Mon, 1977-04-04</td>\n      <td>NaN</td>\n      <td>...</td>\n      <td>0</td>\n      <td>1416</td>\n      <td>Tue, 2002-07-30 22:28:38</td>\n      <td>8257</td>\n      <td>542</td>\n      <td>Sat, 1983-07-16 18:30:07</td>\n      <td>1429</td>\n      <td>3195</td>\n      <td>1</td>\n      <td>evolve real-time relationships</td>\n    </tr>\n    <tr>\n      <th>8</th>\n      <td>9</td>\n      <td>NaN</td>\n      <td>Holly</td>\n      <td>David</td>\n      <td>NaN</td>\n      <td>NaN</td>\n      <td>NaN</td>\n      <td>K</td>\n      <td>NaN</td>\n      <td>NaN</td>\n      <td>...</td>\n      <td>0</td>\n      <td>5614</td>\n      <td>Thu, 2019-08-29 14:50:24</td>\n      <td>4561</td>\n      <td>1718</td>\n      <td>Sun, 2009-12-20 14:50:14</td>\n      <td>3368</td>\n      <td>1975</td>\n      <td>1</td>\n      <td>NaN</td>\n    </tr>\n    <tr>\n      <th>9</th>\n      <td>10</td>\n      <td>NaN</td>\n      <td>Chad</td>\n      <td>NaN</td>\n      <td>NaN</td>\n      <td>DVM</td>\n      <td>YupmMCKEGDZOxnqeIjha</td>\n      <td>NaN</td>\n      <td>NaN</td>\n      <td>NaN</td>\n      <td>...</td>\n      <td>0</td>\n      <td>7669</td>\n      <td>Tue, 1987-02-17 11:22:04</td>\n      <td>8761</td>\n      <td>1288</td>\n      <td>Sat, 2016-03-19 17:33:38</td>\n      <td>1405</td>\n      <td>5181</td>\n      <td>1</td>\n      <td>NaN</td>\n    </tr>\n  </tbody>\n</table>\n<p>10 rows × 29 columns</p>\n</div>"
     },
     "execution_count": 21,
     "metadata": {},
     "output_type": "execute_result"
    }
   ],
   "source": [
    "# Constituent Information\n",
    "print(cons.shape)\n",
    "cons.head(10)"
   ],
   "metadata": {
    "collapsed": false,
    "pycharm": {
     "name": "#%%\n"
    }
   }
  },
  {
   "cell_type": "code",
   "execution_count": 22,
   "outputs": [
    {
     "name": "stdout",
     "output_type": "stream",
     "text": [
      "(1400000, 16)\n"
     ]
    },
    {
     "data": {
      "text/plain": "   cons_email_id  cons_id  cons_email_type_id  is_primary  \\\n0              1   548198                3361           1   \n1              2   491137                2474           1   \n2              3   413429                5175           1   \n3              4   347346                4117           1   \n4              5   443000                6781           1   \n5              6   412213                 226           1   \n6              7   282118                5477           1   \n7              8   624574                5784           1   \n8              9   603436                7790           1   \n9             10   185213                5912           1   \n\n                             email  canonical_local_part       domain  \\\n0            xmartinez@vincent.com                   NaN    gmail.com   \n1               hmiller@haynes.biz  jqCyozTDojYuylQPTHfm  hotmail.com   \n2                aaron64@yahoo.com  FCBeBiVoqnnKDWjnllhN    yahoo.com   \n3         wyattvincent@hotmail.com                   NaN    gmail.com   \n4             tspencer@hotmail.com  VaQIYlKcUkIywkKKEptD    gmail.com   \n5                ogarcia@gmail.com  plEoepTGqWOhdZUZsEKK    gmail.com   \n6            scott06@thompson.info  txFZqAuoDzXhrrKJePGJ    yahoo.com   \n7            allenrobert@yahoo.com  tjaiAMmxqpBKiTgKvcfN    gmail.com   \n8  madeline69@mccarthy-jackson.com                   NaN  hotmail.com   \n9          bishopshannon@gmail.com                   NaN    gmail.com   \n\n      double_validation                 create_dt  create_app  create_user  \\\n0                   NaN  Wed, 1994-01-26 23:49:16        4072         9954   \n1                   NaN  Thu, 1999-12-09 06:18:27        1600         5716   \n2  kRLZexQEwYIMbwFNvQxg  Wed, 1992-11-18 16:46:27        7358         2685   \n3  zSbfmlqXimGyWVBUGdQg  Sat, 1983-11-26 16:49:14         881         3444   \n4                   NaN  Wed, 2000-11-15 13:28:34        5380         5456   \n5                   NaN  Thu, 1984-03-08 11:40:21        3423         4910   \n6                   NaN  Tue, 1975-11-25 06:42:33        8112          252   \n7                   NaN  Sun, 1973-11-11 20:10:53        1901         6427   \n8  TTSshhSpgVPLzlrEBkjo  Mon, 1976-06-28 08:58:19        7418         8577   \n9  FAjeAoTZTNAikikCualt  Sun, 1988-08-07 10:51:50         960         1269   \n\n                modified_dt  modified_app  modified_user  status note  \n0  Sat, 2014-04-19 19:10:39          1990           7595       1  NaN  \n1  Sat, 1984-07-14 05:55:27          4686           3248       1  NaN  \n2  Sun, 1995-12-24 13:13:01          3857           7405       1  NaN  \n3  Sun, 1975-01-19 14:32:56          8713           7713       1  NaN  \n4  Sun, 1994-03-13 16:38:37           765           8618       1  NaN  \n5  Mon, 1986-04-07 08:14:46            99           4832       1  NaN  \n6  Mon, 1975-06-02 18:42:40          1924           9055       1  NaN  \n7  Mon, 1995-07-10 03:12:20          2544           6526       1  NaN  \n8  Tue, 2001-07-24 12:10:57           741           4342       1  NaN  \n9  Sat, 2013-06-22 23:28:06          1619           1698       1  NaN  ",
      "text/html": "<div>\n<style scoped>\n    .dataframe tbody tr th:only-of-type {\n        vertical-align: middle;\n    }\n\n    .dataframe tbody tr th {\n        vertical-align: top;\n    }\n\n    .dataframe thead th {\n        text-align: right;\n    }\n</style>\n<table border=\"1\" class=\"dataframe\">\n  <thead>\n    <tr style=\"text-align: right;\">\n      <th></th>\n      <th>cons_email_id</th>\n      <th>cons_id</th>\n      <th>cons_email_type_id</th>\n      <th>is_primary</th>\n      <th>email</th>\n      <th>canonical_local_part</th>\n      <th>domain</th>\n      <th>double_validation</th>\n      <th>create_dt</th>\n      <th>create_app</th>\n      <th>create_user</th>\n      <th>modified_dt</th>\n      <th>modified_app</th>\n      <th>modified_user</th>\n      <th>status</th>\n      <th>note</th>\n    </tr>\n  </thead>\n  <tbody>\n    <tr>\n      <th>0</th>\n      <td>1</td>\n      <td>548198</td>\n      <td>3361</td>\n      <td>1</td>\n      <td>xmartinez@vincent.com</td>\n      <td>NaN</td>\n      <td>gmail.com</td>\n      <td>NaN</td>\n      <td>Wed, 1994-01-26 23:49:16</td>\n      <td>4072</td>\n      <td>9954</td>\n      <td>Sat, 2014-04-19 19:10:39</td>\n      <td>1990</td>\n      <td>7595</td>\n      <td>1</td>\n      <td>NaN</td>\n    </tr>\n    <tr>\n      <th>1</th>\n      <td>2</td>\n      <td>491137</td>\n      <td>2474</td>\n      <td>1</td>\n      <td>hmiller@haynes.biz</td>\n      <td>jqCyozTDojYuylQPTHfm</td>\n      <td>hotmail.com</td>\n      <td>NaN</td>\n      <td>Thu, 1999-12-09 06:18:27</td>\n      <td>1600</td>\n      <td>5716</td>\n      <td>Sat, 1984-07-14 05:55:27</td>\n      <td>4686</td>\n      <td>3248</td>\n      <td>1</td>\n      <td>NaN</td>\n    </tr>\n    <tr>\n      <th>2</th>\n      <td>3</td>\n      <td>413429</td>\n      <td>5175</td>\n      <td>1</td>\n      <td>aaron64@yahoo.com</td>\n      <td>FCBeBiVoqnnKDWjnllhN</td>\n      <td>yahoo.com</td>\n      <td>kRLZexQEwYIMbwFNvQxg</td>\n      <td>Wed, 1992-11-18 16:46:27</td>\n      <td>7358</td>\n      <td>2685</td>\n      <td>Sun, 1995-12-24 13:13:01</td>\n      <td>3857</td>\n      <td>7405</td>\n      <td>1</td>\n      <td>NaN</td>\n    </tr>\n    <tr>\n      <th>3</th>\n      <td>4</td>\n      <td>347346</td>\n      <td>4117</td>\n      <td>1</td>\n      <td>wyattvincent@hotmail.com</td>\n      <td>NaN</td>\n      <td>gmail.com</td>\n      <td>zSbfmlqXimGyWVBUGdQg</td>\n      <td>Sat, 1983-11-26 16:49:14</td>\n      <td>881</td>\n      <td>3444</td>\n      <td>Sun, 1975-01-19 14:32:56</td>\n      <td>8713</td>\n      <td>7713</td>\n      <td>1</td>\n      <td>NaN</td>\n    </tr>\n    <tr>\n      <th>4</th>\n      <td>5</td>\n      <td>443000</td>\n      <td>6781</td>\n      <td>1</td>\n      <td>tspencer@hotmail.com</td>\n      <td>VaQIYlKcUkIywkKKEptD</td>\n      <td>gmail.com</td>\n      <td>NaN</td>\n      <td>Wed, 2000-11-15 13:28:34</td>\n      <td>5380</td>\n      <td>5456</td>\n      <td>Sun, 1994-03-13 16:38:37</td>\n      <td>765</td>\n      <td>8618</td>\n      <td>1</td>\n      <td>NaN</td>\n    </tr>\n    <tr>\n      <th>5</th>\n      <td>6</td>\n      <td>412213</td>\n      <td>226</td>\n      <td>1</td>\n      <td>ogarcia@gmail.com</td>\n      <td>plEoepTGqWOhdZUZsEKK</td>\n      <td>gmail.com</td>\n      <td>NaN</td>\n      <td>Thu, 1984-03-08 11:40:21</td>\n      <td>3423</td>\n      <td>4910</td>\n      <td>Mon, 1986-04-07 08:14:46</td>\n      <td>99</td>\n      <td>4832</td>\n      <td>1</td>\n      <td>NaN</td>\n    </tr>\n    <tr>\n      <th>6</th>\n      <td>7</td>\n      <td>282118</td>\n      <td>5477</td>\n      <td>1</td>\n      <td>scott06@thompson.info</td>\n      <td>txFZqAuoDzXhrrKJePGJ</td>\n      <td>yahoo.com</td>\n      <td>NaN</td>\n      <td>Tue, 1975-11-25 06:42:33</td>\n      <td>8112</td>\n      <td>252</td>\n      <td>Mon, 1975-06-02 18:42:40</td>\n      <td>1924</td>\n      <td>9055</td>\n      <td>1</td>\n      <td>NaN</td>\n    </tr>\n    <tr>\n      <th>7</th>\n      <td>8</td>\n      <td>624574</td>\n      <td>5784</td>\n      <td>1</td>\n      <td>allenrobert@yahoo.com</td>\n      <td>tjaiAMmxqpBKiTgKvcfN</td>\n      <td>gmail.com</td>\n      <td>NaN</td>\n      <td>Sun, 1973-11-11 20:10:53</td>\n      <td>1901</td>\n      <td>6427</td>\n      <td>Mon, 1995-07-10 03:12:20</td>\n      <td>2544</td>\n      <td>6526</td>\n      <td>1</td>\n      <td>NaN</td>\n    </tr>\n    <tr>\n      <th>8</th>\n      <td>9</td>\n      <td>603436</td>\n      <td>7790</td>\n      <td>1</td>\n      <td>madeline69@mccarthy-jackson.com</td>\n      <td>NaN</td>\n      <td>hotmail.com</td>\n      <td>TTSshhSpgVPLzlrEBkjo</td>\n      <td>Mon, 1976-06-28 08:58:19</td>\n      <td>7418</td>\n      <td>8577</td>\n      <td>Tue, 2001-07-24 12:10:57</td>\n      <td>741</td>\n      <td>4342</td>\n      <td>1</td>\n      <td>NaN</td>\n    </tr>\n    <tr>\n      <th>9</th>\n      <td>10</td>\n      <td>185213</td>\n      <td>5912</td>\n      <td>1</td>\n      <td>bishopshannon@gmail.com</td>\n      <td>NaN</td>\n      <td>gmail.com</td>\n      <td>FAjeAoTZTNAikikCualt</td>\n      <td>Sun, 1988-08-07 10:51:50</td>\n      <td>960</td>\n      <td>1269</td>\n      <td>Sat, 2013-06-22 23:28:06</td>\n      <td>1619</td>\n      <td>1698</td>\n      <td>1</td>\n      <td>NaN</td>\n    </tr>\n  </tbody>\n</table>\n</div>"
     },
     "execution_count": 22,
     "metadata": {},
     "output_type": "execute_result"
    }
   ],
   "source": [
    "#  Constituent Email Addresses\n",
    "print(cons_email.shape)\n",
    "cons_email.head(10)"
   ],
   "metadata": {
    "collapsed": false,
    "pycharm": {
     "name": "#%%\n"
    }
   }
  },
  {
   "cell_type": "code",
   "execution_count": 23,
   "outputs": [
    {
     "name": "stdout",
     "output_type": "stream",
     "text": [
      "(350000, 6)\n"
     ]
    },
    {
     "data": {
      "text/plain": "   cons_email_chapter_subscription_id  cons_email_id  chapter_id  isunsub  \\\n0                                   1         332188           1        1   \n1                                   2         536526           1        1   \n2                                   3         134711           1        1   \n3                                   4         660345           1        1   \n4                                   5         184268           1        1   \n5                                   6         621735           1        1   \n6                                   7         449159           1        1   \n7                                   8         684697           1        1   \n8                                   9         247669           1        1   \n9                                  10         298884           1        1   \n\n                   unsub_dt               modified_dt  \n0  Sat, 1971-06-12 15:38:44  Thu, 1990-06-28 10:54:20  \n1  Wed, 2006-07-12 01:50:45  Thu, 1979-09-20 06:02:35  \n2  Tue, 1987-01-06 13:05:15  Sun, 1974-03-03 15:11:50  \n3  Sat, 2016-08-06 11:06:09  Wed, 1995-09-13 23:45:03  \n4  Sun, 2000-05-28 02:20:45  Sat, 1983-12-10 08:09:58  \n5  Wed, 2009-12-09 14:08:54  Sat, 1990-09-01 06:53:49  \n6  Fri, 2001-02-16 03:25:34  Fri, 2018-04-27 17:26:03  \n7  Wed, 1988-06-29 09:32:53  Mon, 1978-06-12 17:50:09  \n8  Tue, 2003-07-08 23:52:27  Wed, 1972-08-09 06:43:57  \n9  Sat, 1986-09-20 16:39:10  Wed, 1974-09-25 07:52:08  ",
      "text/html": "<div>\n<style scoped>\n    .dataframe tbody tr th:only-of-type {\n        vertical-align: middle;\n    }\n\n    .dataframe tbody tr th {\n        vertical-align: top;\n    }\n\n    .dataframe thead th {\n        text-align: right;\n    }\n</style>\n<table border=\"1\" class=\"dataframe\">\n  <thead>\n    <tr style=\"text-align: right;\">\n      <th></th>\n      <th>cons_email_chapter_subscription_id</th>\n      <th>cons_email_id</th>\n      <th>chapter_id</th>\n      <th>isunsub</th>\n      <th>unsub_dt</th>\n      <th>modified_dt</th>\n    </tr>\n  </thead>\n  <tbody>\n    <tr>\n      <th>0</th>\n      <td>1</td>\n      <td>332188</td>\n      <td>1</td>\n      <td>1</td>\n      <td>Sat, 1971-06-12 15:38:44</td>\n      <td>Thu, 1990-06-28 10:54:20</td>\n    </tr>\n    <tr>\n      <th>1</th>\n      <td>2</td>\n      <td>536526</td>\n      <td>1</td>\n      <td>1</td>\n      <td>Wed, 2006-07-12 01:50:45</td>\n      <td>Thu, 1979-09-20 06:02:35</td>\n    </tr>\n    <tr>\n      <th>2</th>\n      <td>3</td>\n      <td>134711</td>\n      <td>1</td>\n      <td>1</td>\n      <td>Tue, 1987-01-06 13:05:15</td>\n      <td>Sun, 1974-03-03 15:11:50</td>\n    </tr>\n    <tr>\n      <th>3</th>\n      <td>4</td>\n      <td>660345</td>\n      <td>1</td>\n      <td>1</td>\n      <td>Sat, 2016-08-06 11:06:09</td>\n      <td>Wed, 1995-09-13 23:45:03</td>\n    </tr>\n    <tr>\n      <th>4</th>\n      <td>5</td>\n      <td>184268</td>\n      <td>1</td>\n      <td>1</td>\n      <td>Sun, 2000-05-28 02:20:45</td>\n      <td>Sat, 1983-12-10 08:09:58</td>\n    </tr>\n    <tr>\n      <th>5</th>\n      <td>6</td>\n      <td>621735</td>\n      <td>1</td>\n      <td>1</td>\n      <td>Wed, 2009-12-09 14:08:54</td>\n      <td>Sat, 1990-09-01 06:53:49</td>\n    </tr>\n    <tr>\n      <th>6</th>\n      <td>7</td>\n      <td>449159</td>\n      <td>1</td>\n      <td>1</td>\n      <td>Fri, 2001-02-16 03:25:34</td>\n      <td>Fri, 2018-04-27 17:26:03</td>\n    </tr>\n    <tr>\n      <th>7</th>\n      <td>8</td>\n      <td>684697</td>\n      <td>1</td>\n      <td>1</td>\n      <td>Wed, 1988-06-29 09:32:53</td>\n      <td>Mon, 1978-06-12 17:50:09</td>\n    </tr>\n    <tr>\n      <th>8</th>\n      <td>9</td>\n      <td>247669</td>\n      <td>1</td>\n      <td>1</td>\n      <td>Tue, 2003-07-08 23:52:27</td>\n      <td>Wed, 1972-08-09 06:43:57</td>\n    </tr>\n    <tr>\n      <th>9</th>\n      <td>10</td>\n      <td>298884</td>\n      <td>1</td>\n      <td>1</td>\n      <td>Sat, 1986-09-20 16:39:10</td>\n      <td>Wed, 1974-09-25 07:52:08</td>\n    </tr>\n  </tbody>\n</table>\n</div>"
     },
     "execution_count": 23,
     "metadata": {},
     "output_type": "execute_result"
    }
   ],
   "source": [
    "# Constituent Subscription Status:\n",
    "print(cons_email_chapter_subscription.shape)\n",
    "cons_email_chapter_subscription.head(10)"
   ],
   "metadata": {
    "collapsed": false,
    "pycharm": {
     "name": "#%%\n"
    }
   }
  },
  {
   "cell_type": "markdown",
   "source": [
    "# Exercise 1\n",
    "\n",
    "Produce a “people” file with the following schema. Save it as a CSV with a header line to the working directory."
   ],
   "metadata": {
    "collapsed": false,
    "pycharm": {
     "name": "#%% md\n"
    }
   }
  },
  {
   "cell_type": "markdown",
   "source": [
    "<img src=\"schema1.png\" alt=\"Schema Exercise 1\" />"
   ],
   "metadata": {
    "collapsed": false,
    "pycharm": {
     "name": "#%% md\n"
    }
   }
  },
  {
   "cell_type": "markdown",
   "source": [
    "To do this I merge Constituent Information (cons) with Constituent Email Addresses (cons_email) using the key cons_id with an inner join. I have also only selected the records from cons_email where is_primary equals 1.\n",
    "\n",
    "With this I created a first version of people dataframe with the columns source code, created date, updated date and primary email."
   ],
   "metadata": {
    "collapsed": false,
    "pycharm": {
     "name": "#%% md\n"
    }
   }
  },
  {
   "cell_type": "code",
   "execution_count": 24,
   "outputs": [
    {
     "name": "stdout",
     "output_type": "stream",
     "text": [
      "(605639, 6)\n"
     ]
    },
    {
     "data": {
      "text/plain": "   cons_id    source                 create_dt               modified_dt  \\\n0        1    google  Fri, 1983-08-26 06:02:03  Sun, 2015-12-27 09:28:02   \n1        2  facebook  Mon, 1979-03-05 21:08:54  Tue, 1989-06-20 13:28:57   \n2        3       NaN  Fri, 2008-08-22 19:20:28  Fri, 2020-06-05 18:13:57   \n3        5       NaN  Thu, 2007-07-19 18:28:09  Tue, 1971-04-27 06:53:53   \n4        6    google  Sat, 2014-02-15 22:54:27  Fri, 1999-11-12 06:09:25   \n5        7       NaN  Thu, 1979-03-01 16:12:55  Wed, 2019-03-13 02:52:10   \n6        8   twitter  Tue, 2002-07-30 22:28:38  Sat, 1983-07-16 18:30:07   \n7       10   twitter  Tue, 1987-02-17 11:22:04  Sat, 2016-03-19 17:33:38   \n8       11    google  Thu, 2018-04-19 10:44:52  Fri, 1993-06-25 22:34:12   \n9       12   organic  Sun, 2004-04-11 18:52:49  Mon, 2018-07-16 00:25:16   \n\n                       email  cons_email_id  \n0        daniel72@hudson.com         546912  \n1  caustin@spears-carson.com         415587  \n2            klewis@ford.biz          81594  \n3  stephenhamilton@gmail.com         182741  \n4     henryherring@gmail.com         246591  \n5  perrymatthew@campbell.com         339289  \n6     tonifranklin@yahoo.com        1057700  \n7     gillderrick@melton.net        1398350  \n8        tomnelson@gmail.com        1324937  \n9      trevinomary@gmail.com         675752  ",
      "text/html": "<div>\n<style scoped>\n    .dataframe tbody tr th:only-of-type {\n        vertical-align: middle;\n    }\n\n    .dataframe tbody tr th {\n        vertical-align: top;\n    }\n\n    .dataframe thead th {\n        text-align: right;\n    }\n</style>\n<table border=\"1\" class=\"dataframe\">\n  <thead>\n    <tr style=\"text-align: right;\">\n      <th></th>\n      <th>cons_id</th>\n      <th>source</th>\n      <th>create_dt</th>\n      <th>modified_dt</th>\n      <th>email</th>\n      <th>cons_email_id</th>\n    </tr>\n  </thead>\n  <tbody>\n    <tr>\n      <th>0</th>\n      <td>1</td>\n      <td>google</td>\n      <td>Fri, 1983-08-26 06:02:03</td>\n      <td>Sun, 2015-12-27 09:28:02</td>\n      <td>daniel72@hudson.com</td>\n      <td>546912</td>\n    </tr>\n    <tr>\n      <th>1</th>\n      <td>2</td>\n      <td>facebook</td>\n      <td>Mon, 1979-03-05 21:08:54</td>\n      <td>Tue, 1989-06-20 13:28:57</td>\n      <td>caustin@spears-carson.com</td>\n      <td>415587</td>\n    </tr>\n    <tr>\n      <th>2</th>\n      <td>3</td>\n      <td>NaN</td>\n      <td>Fri, 2008-08-22 19:20:28</td>\n      <td>Fri, 2020-06-05 18:13:57</td>\n      <td>klewis@ford.biz</td>\n      <td>81594</td>\n    </tr>\n    <tr>\n      <th>3</th>\n      <td>5</td>\n      <td>NaN</td>\n      <td>Thu, 2007-07-19 18:28:09</td>\n      <td>Tue, 1971-04-27 06:53:53</td>\n      <td>stephenhamilton@gmail.com</td>\n      <td>182741</td>\n    </tr>\n    <tr>\n      <th>4</th>\n      <td>6</td>\n      <td>google</td>\n      <td>Sat, 2014-02-15 22:54:27</td>\n      <td>Fri, 1999-11-12 06:09:25</td>\n      <td>henryherring@gmail.com</td>\n      <td>246591</td>\n    </tr>\n    <tr>\n      <th>5</th>\n      <td>7</td>\n      <td>NaN</td>\n      <td>Thu, 1979-03-01 16:12:55</td>\n      <td>Wed, 2019-03-13 02:52:10</td>\n      <td>perrymatthew@campbell.com</td>\n      <td>339289</td>\n    </tr>\n    <tr>\n      <th>6</th>\n      <td>8</td>\n      <td>twitter</td>\n      <td>Tue, 2002-07-30 22:28:38</td>\n      <td>Sat, 1983-07-16 18:30:07</td>\n      <td>tonifranklin@yahoo.com</td>\n      <td>1057700</td>\n    </tr>\n    <tr>\n      <th>7</th>\n      <td>10</td>\n      <td>twitter</td>\n      <td>Tue, 1987-02-17 11:22:04</td>\n      <td>Sat, 2016-03-19 17:33:38</td>\n      <td>gillderrick@melton.net</td>\n      <td>1398350</td>\n    </tr>\n    <tr>\n      <th>8</th>\n      <td>11</td>\n      <td>google</td>\n      <td>Thu, 2018-04-19 10:44:52</td>\n      <td>Fri, 1993-06-25 22:34:12</td>\n      <td>tomnelson@gmail.com</td>\n      <td>1324937</td>\n    </tr>\n    <tr>\n      <th>9</th>\n      <td>12</td>\n      <td>organic</td>\n      <td>Sun, 2004-04-11 18:52:49</td>\n      <td>Mon, 2018-07-16 00:25:16</td>\n      <td>trevinomary@gmail.com</td>\n      <td>675752</td>\n    </tr>\n  </tbody>\n</table>\n</div>"
     },
     "execution_count": 24,
     "metadata": {},
     "output_type": "execute_result"
    }
   ],
   "source": [
    "# alternative 1 - inner join\n",
    "people = pd.merge(cons[['cons_id', 'source','create_dt', 'modified_dt']], cons_email[cons_email.is_primary == 1][['cons_id', 'email', 'cons_email_id']], how='inner', on = 'cons_id')\n",
    "print(people.shape)\n",
    "people.head(10)\n",
    "\n",
    "# alternative 2 - left join (to get all records from cons and the matches in cons_email) I have not selected this option because it generates records without email, something that should be defined with the stakeholders.\n",
    "# people = pd.merge(cons[['cons_id', 'source','create_dt', 'modified_dt']], cons_email[cons_email.is_primary == 1][['cons_id', 'email', 'cons_email_id']], how='left', on = 'cons_id')\n",
    "# print(people.shape)\n",
    "# people.head(10)"
   ],
   "metadata": {
    "collapsed": false,
    "pycharm": {
     "name": "#%%\n"
    }
   }
  },
  {
   "cell_type": "markdown",
   "source": [
    "Because the document contains the requirement \"We only care about subscription statuses where chapter_id is 1\". I have created a new dataframe of cons_email_chapter_subscription selecting only the records with chapter_id = 1 and the columns cons_email_id and isunsub for a future merge."
   ],
   "metadata": {
    "collapsed": false,
    "pycharm": {
     "name": "#%% md\n"
    }
   }
  },
  {
   "cell_type": "code",
   "execution_count": 25,
   "outputs": [
    {
     "name": "stdout",
     "output_type": "stream",
     "text": [
      "(275484, 2)\n"
     ]
    },
    {
     "data": {
      "text/plain": "   cons_email_id  isunsub\n0         332188        1\n1         536526        1\n2         134711        1\n3         660345        1\n4         184268        1",
      "text/html": "<div>\n<style scoped>\n    .dataframe tbody tr th:only-of-type {\n        vertical-align: middle;\n    }\n\n    .dataframe tbody tr th {\n        vertical-align: top;\n    }\n\n    .dataframe thead th {\n        text-align: right;\n    }\n</style>\n<table border=\"1\" class=\"dataframe\">\n  <thead>\n    <tr style=\"text-align: right;\">\n      <th></th>\n      <th>cons_email_id</th>\n      <th>isunsub</th>\n    </tr>\n  </thead>\n  <tbody>\n    <tr>\n      <th>0</th>\n      <td>332188</td>\n      <td>1</td>\n    </tr>\n    <tr>\n      <th>1</th>\n      <td>536526</td>\n      <td>1</td>\n    </tr>\n    <tr>\n      <th>2</th>\n      <td>134711</td>\n      <td>1</td>\n    </tr>\n    <tr>\n      <th>3</th>\n      <td>660345</td>\n      <td>1</td>\n    </tr>\n    <tr>\n      <th>4</th>\n      <td>184268</td>\n      <td>1</td>\n    </tr>\n  </tbody>\n</table>\n</div>"
     },
     "execution_count": 25,
     "metadata": {},
     "output_type": "execute_result"
    }
   ],
   "source": [
    "cons_email_chapter_subscription_chapter_1 = cons_email_chapter_subscription[cons_email_chapter_subscription.chapter_id == 1][['cons_email_id', 'isunsub']]\n",
    "print(cons_email_chapter_subscription_chapter_1.shape)\n",
    "cons_email_chapter_subscription_chapter_1.head()"
   ],
   "metadata": {
    "collapsed": false,
    "pycharm": {
     "name": "#%%\n"
    }
   }
  },
  {
   "cell_type": "markdown",
   "source": [
    "To add the isunsub column to the people dataframe I have performed a merge using the cons_email_id key with a left join (to get all records from cons and the matches in cons_email_chapter_subscription_chapter_1)"
   ],
   "metadata": {
    "collapsed": false,
    "pycharm": {
     "name": "#%% md\n"
    }
   }
  },
  {
   "cell_type": "code",
   "execution_count": 26,
   "outputs": [
    {
     "name": "stdout",
     "output_type": "stream",
     "text": [
      "(605639, 7)\n"
     ]
    },
    {
     "data": {
      "text/plain": "    cons_id    source                 create_dt               modified_dt  \\\n0         1    google  Fri, 1983-08-26 06:02:03  Sun, 2015-12-27 09:28:02   \n1         2  facebook  Mon, 1979-03-05 21:08:54  Tue, 1989-06-20 13:28:57   \n2         3       NaN  Fri, 2008-08-22 19:20:28  Fri, 2020-06-05 18:13:57   \n3         5       NaN  Thu, 2007-07-19 18:28:09  Tue, 1971-04-27 06:53:53   \n4         6    google  Sat, 2014-02-15 22:54:27  Fri, 1999-11-12 06:09:25   \n5         7       NaN  Thu, 1979-03-01 16:12:55  Wed, 2019-03-13 02:52:10   \n6         8   twitter  Tue, 2002-07-30 22:28:38  Sat, 1983-07-16 18:30:07   \n7        10   twitter  Tue, 1987-02-17 11:22:04  Sat, 2016-03-19 17:33:38   \n8        11    google  Thu, 2018-04-19 10:44:52  Fri, 1993-06-25 22:34:12   \n9        12   organic  Sun, 2004-04-11 18:52:49  Mon, 2018-07-16 00:25:16   \n10       13       NaN  Sat, 1979-07-21 05:31:38  Fri, 1994-03-11 17:52:19   \n11       14       NaN  Tue, 1986-03-18 17:54:05  Sat, 1971-01-23 08:40:49   \n12       15       NaN  Wed, 2015-11-04 14:45:22  Wed, 1980-03-05 09:20:53   \n13       16       NaN  Mon, 1998-08-31 21:32:54  Mon, 2006-03-06 18:33:17   \n14       17       NaN  Thu, 1986-05-08 08:09:41  Sat, 2018-09-15 18:32:46   \n\n                          email  cons_email_id  isunsub  \n0           daniel72@hudson.com         546912      NaN  \n1     caustin@spears-carson.com         415587      1.0  \n2               klewis@ford.biz          81594      1.0  \n3     stephenhamilton@gmail.com         182741      1.0  \n4        henryherring@gmail.com         246591      NaN  \n5     perrymatthew@campbell.com         339289      NaN  \n6        tonifranklin@yahoo.com        1057700      NaN  \n7        gillderrick@melton.net        1398350      NaN  \n8           tomnelson@gmail.com        1324937      NaN  \n9         trevinomary@gmail.com         675752      NaN  \n10       joanpadilla@rivera.com         411644      NaN  \n11   jasminebennett@hotmail.com         113516      NaN  \n12        suttondevon@gmail.com        1010425      NaN  \n13        huntjessica@yahoo.com         171899      NaN  \n14  samantha22@lewis-carter.com          47867      NaN  ",
      "text/html": "<div>\n<style scoped>\n    .dataframe tbody tr th:only-of-type {\n        vertical-align: middle;\n    }\n\n    .dataframe tbody tr th {\n        vertical-align: top;\n    }\n\n    .dataframe thead th {\n        text-align: right;\n    }\n</style>\n<table border=\"1\" class=\"dataframe\">\n  <thead>\n    <tr style=\"text-align: right;\">\n      <th></th>\n      <th>cons_id</th>\n      <th>source</th>\n      <th>create_dt</th>\n      <th>modified_dt</th>\n      <th>email</th>\n      <th>cons_email_id</th>\n      <th>isunsub</th>\n    </tr>\n  </thead>\n  <tbody>\n    <tr>\n      <th>0</th>\n      <td>1</td>\n      <td>google</td>\n      <td>Fri, 1983-08-26 06:02:03</td>\n      <td>Sun, 2015-12-27 09:28:02</td>\n      <td>daniel72@hudson.com</td>\n      <td>546912</td>\n      <td>NaN</td>\n    </tr>\n    <tr>\n      <th>1</th>\n      <td>2</td>\n      <td>facebook</td>\n      <td>Mon, 1979-03-05 21:08:54</td>\n      <td>Tue, 1989-06-20 13:28:57</td>\n      <td>caustin@spears-carson.com</td>\n      <td>415587</td>\n      <td>1.0</td>\n    </tr>\n    <tr>\n      <th>2</th>\n      <td>3</td>\n      <td>NaN</td>\n      <td>Fri, 2008-08-22 19:20:28</td>\n      <td>Fri, 2020-06-05 18:13:57</td>\n      <td>klewis@ford.biz</td>\n      <td>81594</td>\n      <td>1.0</td>\n    </tr>\n    <tr>\n      <th>3</th>\n      <td>5</td>\n      <td>NaN</td>\n      <td>Thu, 2007-07-19 18:28:09</td>\n      <td>Tue, 1971-04-27 06:53:53</td>\n      <td>stephenhamilton@gmail.com</td>\n      <td>182741</td>\n      <td>1.0</td>\n    </tr>\n    <tr>\n      <th>4</th>\n      <td>6</td>\n      <td>google</td>\n      <td>Sat, 2014-02-15 22:54:27</td>\n      <td>Fri, 1999-11-12 06:09:25</td>\n      <td>henryherring@gmail.com</td>\n      <td>246591</td>\n      <td>NaN</td>\n    </tr>\n    <tr>\n      <th>5</th>\n      <td>7</td>\n      <td>NaN</td>\n      <td>Thu, 1979-03-01 16:12:55</td>\n      <td>Wed, 2019-03-13 02:52:10</td>\n      <td>perrymatthew@campbell.com</td>\n      <td>339289</td>\n      <td>NaN</td>\n    </tr>\n    <tr>\n      <th>6</th>\n      <td>8</td>\n      <td>twitter</td>\n      <td>Tue, 2002-07-30 22:28:38</td>\n      <td>Sat, 1983-07-16 18:30:07</td>\n      <td>tonifranklin@yahoo.com</td>\n      <td>1057700</td>\n      <td>NaN</td>\n    </tr>\n    <tr>\n      <th>7</th>\n      <td>10</td>\n      <td>twitter</td>\n      <td>Tue, 1987-02-17 11:22:04</td>\n      <td>Sat, 2016-03-19 17:33:38</td>\n      <td>gillderrick@melton.net</td>\n      <td>1398350</td>\n      <td>NaN</td>\n    </tr>\n    <tr>\n      <th>8</th>\n      <td>11</td>\n      <td>google</td>\n      <td>Thu, 2018-04-19 10:44:52</td>\n      <td>Fri, 1993-06-25 22:34:12</td>\n      <td>tomnelson@gmail.com</td>\n      <td>1324937</td>\n      <td>NaN</td>\n    </tr>\n    <tr>\n      <th>9</th>\n      <td>12</td>\n      <td>organic</td>\n      <td>Sun, 2004-04-11 18:52:49</td>\n      <td>Mon, 2018-07-16 00:25:16</td>\n      <td>trevinomary@gmail.com</td>\n      <td>675752</td>\n      <td>NaN</td>\n    </tr>\n    <tr>\n      <th>10</th>\n      <td>13</td>\n      <td>NaN</td>\n      <td>Sat, 1979-07-21 05:31:38</td>\n      <td>Fri, 1994-03-11 17:52:19</td>\n      <td>joanpadilla@rivera.com</td>\n      <td>411644</td>\n      <td>NaN</td>\n    </tr>\n    <tr>\n      <th>11</th>\n      <td>14</td>\n      <td>NaN</td>\n      <td>Tue, 1986-03-18 17:54:05</td>\n      <td>Sat, 1971-01-23 08:40:49</td>\n      <td>jasminebennett@hotmail.com</td>\n      <td>113516</td>\n      <td>NaN</td>\n    </tr>\n    <tr>\n      <th>12</th>\n      <td>15</td>\n      <td>NaN</td>\n      <td>Wed, 2015-11-04 14:45:22</td>\n      <td>Wed, 1980-03-05 09:20:53</td>\n      <td>suttondevon@gmail.com</td>\n      <td>1010425</td>\n      <td>NaN</td>\n    </tr>\n    <tr>\n      <th>13</th>\n      <td>16</td>\n      <td>NaN</td>\n      <td>Mon, 1998-08-31 21:32:54</td>\n      <td>Mon, 2006-03-06 18:33:17</td>\n      <td>huntjessica@yahoo.com</td>\n      <td>171899</td>\n      <td>NaN</td>\n    </tr>\n    <tr>\n      <th>14</th>\n      <td>17</td>\n      <td>NaN</td>\n      <td>Thu, 1986-05-08 08:09:41</td>\n      <td>Sat, 2018-09-15 18:32:46</td>\n      <td>samantha22@lewis-carter.com</td>\n      <td>47867</td>\n      <td>NaN</td>\n    </tr>\n  </tbody>\n</table>\n</div>"
     },
     "execution_count": 26,
     "metadata": {},
     "output_type": "execute_result"
    }
   ],
   "source": [
    "# add is_unsub to people dataframe\n",
    "people = pd.merge(people, cons_email_chapter_subscription_chapter_1, how='left', on='cons_email_id')\n",
    "print(people.shape)\n",
    "people.head(15)"
   ],
   "metadata": {
    "collapsed": false,
    "pycharm": {
     "name": "#%%\n"
    }
   }
  },
  {
   "cell_type": "markdown",
   "source": [
    "Due to the requirement in the document (If an email is not present in this table, it is assumed to still be subscribed where chapter_id is 1.) I have updated all the null values to 0 (false) of the insunsub column."
   ],
   "metadata": {
    "collapsed": false,
    "pycharm": {
     "name": "#%% md\n"
    }
   }
  },
  {
   "cell_type": "code",
   "execution_count": 27,
   "outputs": [
    {
     "name": "stdout",
     "output_type": "stream",
     "text": [
      "(605639, 7)\n"
     ]
    },
    {
     "data": {
      "text/plain": "    cons_id    source                 create_dt               modified_dt  \\\n0         1    google  Fri, 1983-08-26 06:02:03  Sun, 2015-12-27 09:28:02   \n1         2  facebook  Mon, 1979-03-05 21:08:54  Tue, 1989-06-20 13:28:57   \n2         3       NaN  Fri, 2008-08-22 19:20:28  Fri, 2020-06-05 18:13:57   \n3         5       NaN  Thu, 2007-07-19 18:28:09  Tue, 1971-04-27 06:53:53   \n4         6    google  Sat, 2014-02-15 22:54:27  Fri, 1999-11-12 06:09:25   \n5         7       NaN  Thu, 1979-03-01 16:12:55  Wed, 2019-03-13 02:52:10   \n6         8   twitter  Tue, 2002-07-30 22:28:38  Sat, 1983-07-16 18:30:07   \n7        10   twitter  Tue, 1987-02-17 11:22:04  Sat, 2016-03-19 17:33:38   \n8        11    google  Thu, 2018-04-19 10:44:52  Fri, 1993-06-25 22:34:12   \n9        12   organic  Sun, 2004-04-11 18:52:49  Mon, 2018-07-16 00:25:16   \n10       13       NaN  Sat, 1979-07-21 05:31:38  Fri, 1994-03-11 17:52:19   \n11       14       NaN  Tue, 1986-03-18 17:54:05  Sat, 1971-01-23 08:40:49   \n12       15       NaN  Wed, 2015-11-04 14:45:22  Wed, 1980-03-05 09:20:53   \n13       16       NaN  Mon, 1998-08-31 21:32:54  Mon, 2006-03-06 18:33:17   \n14       17       NaN  Thu, 1986-05-08 08:09:41  Sat, 2018-09-15 18:32:46   \n\n                          email  cons_email_id  isunsub  \n0           daniel72@hudson.com         546912      0.0  \n1     caustin@spears-carson.com         415587      1.0  \n2               klewis@ford.biz          81594      1.0  \n3     stephenhamilton@gmail.com         182741      1.0  \n4        henryherring@gmail.com         246591      0.0  \n5     perrymatthew@campbell.com         339289      0.0  \n6        tonifranklin@yahoo.com        1057700      0.0  \n7        gillderrick@melton.net        1398350      0.0  \n8           tomnelson@gmail.com        1324937      0.0  \n9         trevinomary@gmail.com         675752      0.0  \n10       joanpadilla@rivera.com         411644      0.0  \n11   jasminebennett@hotmail.com         113516      0.0  \n12        suttondevon@gmail.com        1010425      0.0  \n13        huntjessica@yahoo.com         171899      0.0  \n14  samantha22@lewis-carter.com          47867      0.0  ",
      "text/html": "<div>\n<style scoped>\n    .dataframe tbody tr th:only-of-type {\n        vertical-align: middle;\n    }\n\n    .dataframe tbody tr th {\n        vertical-align: top;\n    }\n\n    .dataframe thead th {\n        text-align: right;\n    }\n</style>\n<table border=\"1\" class=\"dataframe\">\n  <thead>\n    <tr style=\"text-align: right;\">\n      <th></th>\n      <th>cons_id</th>\n      <th>source</th>\n      <th>create_dt</th>\n      <th>modified_dt</th>\n      <th>email</th>\n      <th>cons_email_id</th>\n      <th>isunsub</th>\n    </tr>\n  </thead>\n  <tbody>\n    <tr>\n      <th>0</th>\n      <td>1</td>\n      <td>google</td>\n      <td>Fri, 1983-08-26 06:02:03</td>\n      <td>Sun, 2015-12-27 09:28:02</td>\n      <td>daniel72@hudson.com</td>\n      <td>546912</td>\n      <td>0.0</td>\n    </tr>\n    <tr>\n      <th>1</th>\n      <td>2</td>\n      <td>facebook</td>\n      <td>Mon, 1979-03-05 21:08:54</td>\n      <td>Tue, 1989-06-20 13:28:57</td>\n      <td>caustin@spears-carson.com</td>\n      <td>415587</td>\n      <td>1.0</td>\n    </tr>\n    <tr>\n      <th>2</th>\n      <td>3</td>\n      <td>NaN</td>\n      <td>Fri, 2008-08-22 19:20:28</td>\n      <td>Fri, 2020-06-05 18:13:57</td>\n      <td>klewis@ford.biz</td>\n      <td>81594</td>\n      <td>1.0</td>\n    </tr>\n    <tr>\n      <th>3</th>\n      <td>5</td>\n      <td>NaN</td>\n      <td>Thu, 2007-07-19 18:28:09</td>\n      <td>Tue, 1971-04-27 06:53:53</td>\n      <td>stephenhamilton@gmail.com</td>\n      <td>182741</td>\n      <td>1.0</td>\n    </tr>\n    <tr>\n      <th>4</th>\n      <td>6</td>\n      <td>google</td>\n      <td>Sat, 2014-02-15 22:54:27</td>\n      <td>Fri, 1999-11-12 06:09:25</td>\n      <td>henryherring@gmail.com</td>\n      <td>246591</td>\n      <td>0.0</td>\n    </tr>\n    <tr>\n      <th>5</th>\n      <td>7</td>\n      <td>NaN</td>\n      <td>Thu, 1979-03-01 16:12:55</td>\n      <td>Wed, 2019-03-13 02:52:10</td>\n      <td>perrymatthew@campbell.com</td>\n      <td>339289</td>\n      <td>0.0</td>\n    </tr>\n    <tr>\n      <th>6</th>\n      <td>8</td>\n      <td>twitter</td>\n      <td>Tue, 2002-07-30 22:28:38</td>\n      <td>Sat, 1983-07-16 18:30:07</td>\n      <td>tonifranklin@yahoo.com</td>\n      <td>1057700</td>\n      <td>0.0</td>\n    </tr>\n    <tr>\n      <th>7</th>\n      <td>10</td>\n      <td>twitter</td>\n      <td>Tue, 1987-02-17 11:22:04</td>\n      <td>Sat, 2016-03-19 17:33:38</td>\n      <td>gillderrick@melton.net</td>\n      <td>1398350</td>\n      <td>0.0</td>\n    </tr>\n    <tr>\n      <th>8</th>\n      <td>11</td>\n      <td>google</td>\n      <td>Thu, 2018-04-19 10:44:52</td>\n      <td>Fri, 1993-06-25 22:34:12</td>\n      <td>tomnelson@gmail.com</td>\n      <td>1324937</td>\n      <td>0.0</td>\n    </tr>\n    <tr>\n      <th>9</th>\n      <td>12</td>\n      <td>organic</td>\n      <td>Sun, 2004-04-11 18:52:49</td>\n      <td>Mon, 2018-07-16 00:25:16</td>\n      <td>trevinomary@gmail.com</td>\n      <td>675752</td>\n      <td>0.0</td>\n    </tr>\n    <tr>\n      <th>10</th>\n      <td>13</td>\n      <td>NaN</td>\n      <td>Sat, 1979-07-21 05:31:38</td>\n      <td>Fri, 1994-03-11 17:52:19</td>\n      <td>joanpadilla@rivera.com</td>\n      <td>411644</td>\n      <td>0.0</td>\n    </tr>\n    <tr>\n      <th>11</th>\n      <td>14</td>\n      <td>NaN</td>\n      <td>Tue, 1986-03-18 17:54:05</td>\n      <td>Sat, 1971-01-23 08:40:49</td>\n      <td>jasminebennett@hotmail.com</td>\n      <td>113516</td>\n      <td>0.0</td>\n    </tr>\n    <tr>\n      <th>12</th>\n      <td>15</td>\n      <td>NaN</td>\n      <td>Wed, 2015-11-04 14:45:22</td>\n      <td>Wed, 1980-03-05 09:20:53</td>\n      <td>suttondevon@gmail.com</td>\n      <td>1010425</td>\n      <td>0.0</td>\n    </tr>\n    <tr>\n      <th>13</th>\n      <td>16</td>\n      <td>NaN</td>\n      <td>Mon, 1998-08-31 21:32:54</td>\n      <td>Mon, 2006-03-06 18:33:17</td>\n      <td>huntjessica@yahoo.com</td>\n      <td>171899</td>\n      <td>0.0</td>\n    </tr>\n    <tr>\n      <th>14</th>\n      <td>17</td>\n      <td>NaN</td>\n      <td>Thu, 1986-05-08 08:09:41</td>\n      <td>Sat, 2018-09-15 18:32:46</td>\n      <td>samantha22@lewis-carter.com</td>\n      <td>47867</td>\n      <td>0.0</td>\n    </tr>\n  </tbody>\n</table>\n</div>"
     },
     "execution_count": 27,
     "metadata": {},
     "output_type": "execute_result"
    }
   ],
   "source": [
    "people['isunsub'] = people['isunsub'].fillna(0)\n",
    "print(people.shape)\n",
    "people.head(15)"
   ],
   "metadata": {
    "collapsed": false,
    "pycharm": {
     "name": "#%%\n"
    }
   }
  },
  {
   "cell_type": "markdown",
   "source": [
    "Next I have eliminated the unnecessary columns 'cons_id' and 'cons_email_id'"
   ],
   "metadata": {
    "collapsed": false,
    "pycharm": {
     "name": "#%% md\n"
    }
   }
  },
  {
   "cell_type": "code",
   "execution_count": 28,
   "outputs": [
    {
     "name": "stdout",
     "output_type": "stream",
     "text": [
      "(605639, 5)\n"
     ]
    },
    {
     "data": {
      "text/plain": "      source                 create_dt               modified_dt  \\\n0     google  Fri, 1983-08-26 06:02:03  Sun, 2015-12-27 09:28:02   \n1   facebook  Mon, 1979-03-05 21:08:54  Tue, 1989-06-20 13:28:57   \n2        NaN  Fri, 2008-08-22 19:20:28  Fri, 2020-06-05 18:13:57   \n3        NaN  Thu, 2007-07-19 18:28:09  Tue, 1971-04-27 06:53:53   \n4     google  Sat, 2014-02-15 22:54:27  Fri, 1999-11-12 06:09:25   \n5        NaN  Thu, 1979-03-01 16:12:55  Wed, 2019-03-13 02:52:10   \n6    twitter  Tue, 2002-07-30 22:28:38  Sat, 1983-07-16 18:30:07   \n7    twitter  Tue, 1987-02-17 11:22:04  Sat, 2016-03-19 17:33:38   \n8     google  Thu, 2018-04-19 10:44:52  Fri, 1993-06-25 22:34:12   \n9    organic  Sun, 2004-04-11 18:52:49  Mon, 2018-07-16 00:25:16   \n10       NaN  Sat, 1979-07-21 05:31:38  Fri, 1994-03-11 17:52:19   \n11       NaN  Tue, 1986-03-18 17:54:05  Sat, 1971-01-23 08:40:49   \n12       NaN  Wed, 2015-11-04 14:45:22  Wed, 1980-03-05 09:20:53   \n13       NaN  Mon, 1998-08-31 21:32:54  Mon, 2006-03-06 18:33:17   \n14       NaN  Thu, 1986-05-08 08:09:41  Sat, 2018-09-15 18:32:46   \n\n                          email  isunsub  \n0           daniel72@hudson.com      0.0  \n1     caustin@spears-carson.com      1.0  \n2               klewis@ford.biz      1.0  \n3     stephenhamilton@gmail.com      1.0  \n4        henryherring@gmail.com      0.0  \n5     perrymatthew@campbell.com      0.0  \n6        tonifranklin@yahoo.com      0.0  \n7        gillderrick@melton.net      0.0  \n8           tomnelson@gmail.com      0.0  \n9         trevinomary@gmail.com      0.0  \n10       joanpadilla@rivera.com      0.0  \n11   jasminebennett@hotmail.com      0.0  \n12        suttondevon@gmail.com      0.0  \n13        huntjessica@yahoo.com      0.0  \n14  samantha22@lewis-carter.com      0.0  ",
      "text/html": "<div>\n<style scoped>\n    .dataframe tbody tr th:only-of-type {\n        vertical-align: middle;\n    }\n\n    .dataframe tbody tr th {\n        vertical-align: top;\n    }\n\n    .dataframe thead th {\n        text-align: right;\n    }\n</style>\n<table border=\"1\" class=\"dataframe\">\n  <thead>\n    <tr style=\"text-align: right;\">\n      <th></th>\n      <th>source</th>\n      <th>create_dt</th>\n      <th>modified_dt</th>\n      <th>email</th>\n      <th>isunsub</th>\n    </tr>\n  </thead>\n  <tbody>\n    <tr>\n      <th>0</th>\n      <td>google</td>\n      <td>Fri, 1983-08-26 06:02:03</td>\n      <td>Sun, 2015-12-27 09:28:02</td>\n      <td>daniel72@hudson.com</td>\n      <td>0.0</td>\n    </tr>\n    <tr>\n      <th>1</th>\n      <td>facebook</td>\n      <td>Mon, 1979-03-05 21:08:54</td>\n      <td>Tue, 1989-06-20 13:28:57</td>\n      <td>caustin@spears-carson.com</td>\n      <td>1.0</td>\n    </tr>\n    <tr>\n      <th>2</th>\n      <td>NaN</td>\n      <td>Fri, 2008-08-22 19:20:28</td>\n      <td>Fri, 2020-06-05 18:13:57</td>\n      <td>klewis@ford.biz</td>\n      <td>1.0</td>\n    </tr>\n    <tr>\n      <th>3</th>\n      <td>NaN</td>\n      <td>Thu, 2007-07-19 18:28:09</td>\n      <td>Tue, 1971-04-27 06:53:53</td>\n      <td>stephenhamilton@gmail.com</td>\n      <td>1.0</td>\n    </tr>\n    <tr>\n      <th>4</th>\n      <td>google</td>\n      <td>Sat, 2014-02-15 22:54:27</td>\n      <td>Fri, 1999-11-12 06:09:25</td>\n      <td>henryherring@gmail.com</td>\n      <td>0.0</td>\n    </tr>\n    <tr>\n      <th>5</th>\n      <td>NaN</td>\n      <td>Thu, 1979-03-01 16:12:55</td>\n      <td>Wed, 2019-03-13 02:52:10</td>\n      <td>perrymatthew@campbell.com</td>\n      <td>0.0</td>\n    </tr>\n    <tr>\n      <th>6</th>\n      <td>twitter</td>\n      <td>Tue, 2002-07-30 22:28:38</td>\n      <td>Sat, 1983-07-16 18:30:07</td>\n      <td>tonifranklin@yahoo.com</td>\n      <td>0.0</td>\n    </tr>\n    <tr>\n      <th>7</th>\n      <td>twitter</td>\n      <td>Tue, 1987-02-17 11:22:04</td>\n      <td>Sat, 2016-03-19 17:33:38</td>\n      <td>gillderrick@melton.net</td>\n      <td>0.0</td>\n    </tr>\n    <tr>\n      <th>8</th>\n      <td>google</td>\n      <td>Thu, 2018-04-19 10:44:52</td>\n      <td>Fri, 1993-06-25 22:34:12</td>\n      <td>tomnelson@gmail.com</td>\n      <td>0.0</td>\n    </tr>\n    <tr>\n      <th>9</th>\n      <td>organic</td>\n      <td>Sun, 2004-04-11 18:52:49</td>\n      <td>Mon, 2018-07-16 00:25:16</td>\n      <td>trevinomary@gmail.com</td>\n      <td>0.0</td>\n    </tr>\n    <tr>\n      <th>10</th>\n      <td>NaN</td>\n      <td>Sat, 1979-07-21 05:31:38</td>\n      <td>Fri, 1994-03-11 17:52:19</td>\n      <td>joanpadilla@rivera.com</td>\n      <td>0.0</td>\n    </tr>\n    <tr>\n      <th>11</th>\n      <td>NaN</td>\n      <td>Tue, 1986-03-18 17:54:05</td>\n      <td>Sat, 1971-01-23 08:40:49</td>\n      <td>jasminebennett@hotmail.com</td>\n      <td>0.0</td>\n    </tr>\n    <tr>\n      <th>12</th>\n      <td>NaN</td>\n      <td>Wed, 2015-11-04 14:45:22</td>\n      <td>Wed, 1980-03-05 09:20:53</td>\n      <td>suttondevon@gmail.com</td>\n      <td>0.0</td>\n    </tr>\n    <tr>\n      <th>13</th>\n      <td>NaN</td>\n      <td>Mon, 1998-08-31 21:32:54</td>\n      <td>Mon, 2006-03-06 18:33:17</td>\n      <td>huntjessica@yahoo.com</td>\n      <td>0.0</td>\n    </tr>\n    <tr>\n      <th>14</th>\n      <td>NaN</td>\n      <td>Thu, 1986-05-08 08:09:41</td>\n      <td>Sat, 2018-09-15 18:32:46</td>\n      <td>samantha22@lewis-carter.com</td>\n      <td>0.0</td>\n    </tr>\n  </tbody>\n</table>\n</div>"
     },
     "execution_count": 28,
     "metadata": {},
     "output_type": "execute_result"
    }
   ],
   "source": [
    "people = people.drop(columns=['cons_id', 'cons_email_id'])\n",
    "print(people.shape)\n",
    "people.head(15)"
   ],
   "metadata": {
    "collapsed": false,
    "pycharm": {
     "name": "#%%\n"
    }
   }
  },
  {
   "cell_type": "markdown",
   "source": [
    "Because the schema requires a specific data type for the columns I have checked the data types and updated according to the schema"
   ],
   "metadata": {
    "collapsed": false,
    "pycharm": {
     "name": "#%% md\n"
    }
   }
  },
  {
   "cell_type": "code",
   "execution_count": 29,
   "outputs": [
    {
     "data": {
      "text/plain": "source          object\ncreate_dt       object\nmodified_dt     object\nemail           object\nisunsub        float64\ndtype: object"
     },
     "execution_count": 29,
     "metadata": {},
     "output_type": "execute_result"
    }
   ],
   "source": [
    "# check columns data types\n",
    "people.dtypes"
   ],
   "metadata": {
    "collapsed": false,
    "pycharm": {
     "name": "#%%\n"
    }
   }
  },
  {
   "cell_type": "code",
   "execution_count": 30,
   "outputs": [
    {
     "name": "stdout",
     "output_type": "stream",
     "text": [
      "source                 string\n",
      "create_dt      datetime64[ns]\n",
      "modified_dt    datetime64[ns]\n",
      "email                  string\n",
      "isunsub                  bool\n",
      "dtype: object\n",
      "(605639, 5)\n"
     ]
    },
    {
     "data": {
      "text/plain": "      source           create_dt         modified_dt  \\\n0     google 1983-08-26 06:02:03 2015-12-27 09:28:02   \n1   facebook 1979-03-05 21:08:54 1989-06-20 13:28:57   \n2       <NA> 2008-08-22 19:20:28 2020-06-05 18:13:57   \n3       <NA> 2007-07-19 18:28:09 1971-04-27 06:53:53   \n4     google 2014-02-15 22:54:27 1999-11-12 06:09:25   \n5       <NA> 1979-03-01 16:12:55 2019-03-13 02:52:10   \n6    twitter 2002-07-30 22:28:38 1983-07-16 18:30:07   \n7    twitter 1987-02-17 11:22:04 2016-03-19 17:33:38   \n8     google 2018-04-19 10:44:52 1993-06-25 22:34:12   \n9    organic 2004-04-11 18:52:49 2018-07-16 00:25:16   \n10      <NA> 1979-07-21 05:31:38 1994-03-11 17:52:19   \n11      <NA> 1986-03-18 17:54:05 1971-01-23 08:40:49   \n12      <NA> 2015-11-04 14:45:22 1980-03-05 09:20:53   \n13      <NA> 1998-08-31 21:32:54 2006-03-06 18:33:17   \n14      <NA> 1986-05-08 08:09:41 2018-09-15 18:32:46   \n\n                          email  isunsub  \n0           daniel72@hudson.com    False  \n1     caustin@spears-carson.com     True  \n2               klewis@ford.biz     True  \n3     stephenhamilton@gmail.com     True  \n4        henryherring@gmail.com    False  \n5     perrymatthew@campbell.com    False  \n6        tonifranklin@yahoo.com    False  \n7        gillderrick@melton.net    False  \n8           tomnelson@gmail.com    False  \n9         trevinomary@gmail.com    False  \n10       joanpadilla@rivera.com    False  \n11   jasminebennett@hotmail.com    False  \n12        suttondevon@gmail.com    False  \n13        huntjessica@yahoo.com    False  \n14  samantha22@lewis-carter.com    False  ",
      "text/html": "<div>\n<style scoped>\n    .dataframe tbody tr th:only-of-type {\n        vertical-align: middle;\n    }\n\n    .dataframe tbody tr th {\n        vertical-align: top;\n    }\n\n    .dataframe thead th {\n        text-align: right;\n    }\n</style>\n<table border=\"1\" class=\"dataframe\">\n  <thead>\n    <tr style=\"text-align: right;\">\n      <th></th>\n      <th>source</th>\n      <th>create_dt</th>\n      <th>modified_dt</th>\n      <th>email</th>\n      <th>isunsub</th>\n    </tr>\n  </thead>\n  <tbody>\n    <tr>\n      <th>0</th>\n      <td>google</td>\n      <td>1983-08-26 06:02:03</td>\n      <td>2015-12-27 09:28:02</td>\n      <td>daniel72@hudson.com</td>\n      <td>False</td>\n    </tr>\n    <tr>\n      <th>1</th>\n      <td>facebook</td>\n      <td>1979-03-05 21:08:54</td>\n      <td>1989-06-20 13:28:57</td>\n      <td>caustin@spears-carson.com</td>\n      <td>True</td>\n    </tr>\n    <tr>\n      <th>2</th>\n      <td>&lt;NA&gt;</td>\n      <td>2008-08-22 19:20:28</td>\n      <td>2020-06-05 18:13:57</td>\n      <td>klewis@ford.biz</td>\n      <td>True</td>\n    </tr>\n    <tr>\n      <th>3</th>\n      <td>&lt;NA&gt;</td>\n      <td>2007-07-19 18:28:09</td>\n      <td>1971-04-27 06:53:53</td>\n      <td>stephenhamilton@gmail.com</td>\n      <td>True</td>\n    </tr>\n    <tr>\n      <th>4</th>\n      <td>google</td>\n      <td>2014-02-15 22:54:27</td>\n      <td>1999-11-12 06:09:25</td>\n      <td>henryherring@gmail.com</td>\n      <td>False</td>\n    </tr>\n    <tr>\n      <th>5</th>\n      <td>&lt;NA&gt;</td>\n      <td>1979-03-01 16:12:55</td>\n      <td>2019-03-13 02:52:10</td>\n      <td>perrymatthew@campbell.com</td>\n      <td>False</td>\n    </tr>\n    <tr>\n      <th>6</th>\n      <td>twitter</td>\n      <td>2002-07-30 22:28:38</td>\n      <td>1983-07-16 18:30:07</td>\n      <td>tonifranklin@yahoo.com</td>\n      <td>False</td>\n    </tr>\n    <tr>\n      <th>7</th>\n      <td>twitter</td>\n      <td>1987-02-17 11:22:04</td>\n      <td>2016-03-19 17:33:38</td>\n      <td>gillderrick@melton.net</td>\n      <td>False</td>\n    </tr>\n    <tr>\n      <th>8</th>\n      <td>google</td>\n      <td>2018-04-19 10:44:52</td>\n      <td>1993-06-25 22:34:12</td>\n      <td>tomnelson@gmail.com</td>\n      <td>False</td>\n    </tr>\n    <tr>\n      <th>9</th>\n      <td>organic</td>\n      <td>2004-04-11 18:52:49</td>\n      <td>2018-07-16 00:25:16</td>\n      <td>trevinomary@gmail.com</td>\n      <td>False</td>\n    </tr>\n    <tr>\n      <th>10</th>\n      <td>&lt;NA&gt;</td>\n      <td>1979-07-21 05:31:38</td>\n      <td>1994-03-11 17:52:19</td>\n      <td>joanpadilla@rivera.com</td>\n      <td>False</td>\n    </tr>\n    <tr>\n      <th>11</th>\n      <td>&lt;NA&gt;</td>\n      <td>1986-03-18 17:54:05</td>\n      <td>1971-01-23 08:40:49</td>\n      <td>jasminebennett@hotmail.com</td>\n      <td>False</td>\n    </tr>\n    <tr>\n      <th>12</th>\n      <td>&lt;NA&gt;</td>\n      <td>2015-11-04 14:45:22</td>\n      <td>1980-03-05 09:20:53</td>\n      <td>suttondevon@gmail.com</td>\n      <td>False</td>\n    </tr>\n    <tr>\n      <th>13</th>\n      <td>&lt;NA&gt;</td>\n      <td>1998-08-31 21:32:54</td>\n      <td>2006-03-06 18:33:17</td>\n      <td>huntjessica@yahoo.com</td>\n      <td>False</td>\n    </tr>\n    <tr>\n      <th>14</th>\n      <td>&lt;NA&gt;</td>\n      <td>1986-05-08 08:09:41</td>\n      <td>2018-09-15 18:32:46</td>\n      <td>samantha22@lewis-carter.com</td>\n      <td>False</td>\n    </tr>\n  </tbody>\n</table>\n</div>"
     },
     "execution_count": 30,
     "metadata": {},
     "output_type": "execute_result"
    }
   ],
   "source": [
    "# convert column data types\n",
    "people = people.convert_dtypes()\n",
    "people['create_dt'] = pd.to_datetime(people['create_dt'])\n",
    "people['modified_dt'] = pd.to_datetime(people['modified_dt'])\n",
    "people['isunsub'] = people['isunsub'].astype('bool')\n",
    "print(people.dtypes)\n",
    "print(people.shape)\n",
    "people.head(15)"
   ],
   "metadata": {
    "collapsed": false,
    "pycharm": {
     "name": "#%%\n"
    }
   }
  },
  {
   "cell_type": "markdown",
   "source": [
    "Next, I have renamed and rearranged the columns according to the schema"
   ],
   "metadata": {
    "collapsed": false,
    "pycharm": {
     "name": "#%% md\n"
    }
   }
  },
  {
   "cell_type": "code",
   "execution_count": 31,
   "outputs": [
    {
     "data": {
      "text/plain": "       code           create_dt          updated_dt  \\\n0    google 1983-08-26 06:02:03 2015-12-27 09:28:02   \n1  facebook 1979-03-05 21:08:54 1989-06-20 13:28:57   \n2      <NA> 2008-08-22 19:20:28 2020-06-05 18:13:57   \n3      <NA> 2007-07-19 18:28:09 1971-04-27 06:53:53   \n4    google 2014-02-15 22:54:27 1999-11-12 06:09:25   \n\n                       email  is_unsub  \n0        daniel72@hudson.com     False  \n1  caustin@spears-carson.com      True  \n2            klewis@ford.biz      True  \n3  stephenhamilton@gmail.com      True  \n4     henryherring@gmail.com     False  ",
      "text/html": "<div>\n<style scoped>\n    .dataframe tbody tr th:only-of-type {\n        vertical-align: middle;\n    }\n\n    .dataframe tbody tr th {\n        vertical-align: top;\n    }\n\n    .dataframe thead th {\n        text-align: right;\n    }\n</style>\n<table border=\"1\" class=\"dataframe\">\n  <thead>\n    <tr style=\"text-align: right;\">\n      <th></th>\n      <th>code</th>\n      <th>create_dt</th>\n      <th>updated_dt</th>\n      <th>email</th>\n      <th>is_unsub</th>\n    </tr>\n  </thead>\n  <tbody>\n    <tr>\n      <th>0</th>\n      <td>google</td>\n      <td>1983-08-26 06:02:03</td>\n      <td>2015-12-27 09:28:02</td>\n      <td>daniel72@hudson.com</td>\n      <td>False</td>\n    </tr>\n    <tr>\n      <th>1</th>\n      <td>facebook</td>\n      <td>1979-03-05 21:08:54</td>\n      <td>1989-06-20 13:28:57</td>\n      <td>caustin@spears-carson.com</td>\n      <td>True</td>\n    </tr>\n    <tr>\n      <th>2</th>\n      <td>&lt;NA&gt;</td>\n      <td>2008-08-22 19:20:28</td>\n      <td>2020-06-05 18:13:57</td>\n      <td>klewis@ford.biz</td>\n      <td>True</td>\n    </tr>\n    <tr>\n      <th>3</th>\n      <td>&lt;NA&gt;</td>\n      <td>2007-07-19 18:28:09</td>\n      <td>1971-04-27 06:53:53</td>\n      <td>stephenhamilton@gmail.com</td>\n      <td>True</td>\n    </tr>\n    <tr>\n      <th>4</th>\n      <td>google</td>\n      <td>2014-02-15 22:54:27</td>\n      <td>1999-11-12 06:09:25</td>\n      <td>henryherring@gmail.com</td>\n      <td>False</td>\n    </tr>\n  </tbody>\n</table>\n</div>"
     },
     "execution_count": 31,
     "metadata": {},
     "output_type": "execute_result"
    }
   ],
   "source": [
    "# rename columns according to schema\n",
    "people = people.rename(columns={'source': 'code', 'isunsub': 'is_unsub', 'modified_dt': 'updated_dt'})\n",
    "people.head()"
   ],
   "metadata": {
    "collapsed": false,
    "pycharm": {
     "name": "#%%\n"
    }
   }
  },
  {
   "cell_type": "code",
   "execution_count": 32,
   "outputs": [
    {
     "name": "stdout",
     "output_type": "stream",
     "text": [
      "(605639, 5)\n"
     ]
    },
    {
     "data": {
      "text/plain": "                            email      code  is_unsub           create_dt  \\\n0             daniel72@hudson.com    google     False 1983-08-26 06:02:03   \n1       caustin@spears-carson.com  facebook      True 1979-03-05 21:08:54   \n2                 klewis@ford.biz      <NA>      True 2008-08-22 19:20:28   \n3       stephenhamilton@gmail.com      <NA>      True 2007-07-19 18:28:09   \n4          henryherring@gmail.com    google     False 2014-02-15 22:54:27   \n...                           ...       ...       ...                 ...   \n605634  cobbpatricia@anderson.biz      <NA>     False 2008-06-16 18:49:16   \n605635  hjones@raymond-adkins.com      <NA>      True 2001-11-15 08:04:01   \n605636       jennifer82@oneal.com   twitter     False 1973-06-14 08:14:54   \n605637    robertodixon@wilson.net    google     False 1998-06-02 01:24:00   \n605638       christie54@gmail.com      <NA>     False 1989-02-15 17:34:48   \n\n                updated_dt  \n0      2015-12-27 09:28:02  \n1      1989-06-20 13:28:57  \n2      2020-06-05 18:13:57  \n3      1971-04-27 06:53:53  \n4      1999-11-12 06:09:25  \n...                    ...  \n605634 1999-10-23 22:19:10  \n605635 2010-08-24 07:06:01  \n605636 1995-09-29 17:28:40  \n605637 2014-06-01 11:16:45  \n605638 2020-04-30 19:39:18  \n\n[605639 rows x 5 columns]",
      "text/html": "<div>\n<style scoped>\n    .dataframe tbody tr th:only-of-type {\n        vertical-align: middle;\n    }\n\n    .dataframe tbody tr th {\n        vertical-align: top;\n    }\n\n    .dataframe thead th {\n        text-align: right;\n    }\n</style>\n<table border=\"1\" class=\"dataframe\">\n  <thead>\n    <tr style=\"text-align: right;\">\n      <th></th>\n      <th>email</th>\n      <th>code</th>\n      <th>is_unsub</th>\n      <th>create_dt</th>\n      <th>updated_dt</th>\n    </tr>\n  </thead>\n  <tbody>\n    <tr>\n      <th>0</th>\n      <td>daniel72@hudson.com</td>\n      <td>google</td>\n      <td>False</td>\n      <td>1983-08-26 06:02:03</td>\n      <td>2015-12-27 09:28:02</td>\n    </tr>\n    <tr>\n      <th>1</th>\n      <td>caustin@spears-carson.com</td>\n      <td>facebook</td>\n      <td>True</td>\n      <td>1979-03-05 21:08:54</td>\n      <td>1989-06-20 13:28:57</td>\n    </tr>\n    <tr>\n      <th>2</th>\n      <td>klewis@ford.biz</td>\n      <td>&lt;NA&gt;</td>\n      <td>True</td>\n      <td>2008-08-22 19:20:28</td>\n      <td>2020-06-05 18:13:57</td>\n    </tr>\n    <tr>\n      <th>3</th>\n      <td>stephenhamilton@gmail.com</td>\n      <td>&lt;NA&gt;</td>\n      <td>True</td>\n      <td>2007-07-19 18:28:09</td>\n      <td>1971-04-27 06:53:53</td>\n    </tr>\n    <tr>\n      <th>4</th>\n      <td>henryherring@gmail.com</td>\n      <td>google</td>\n      <td>False</td>\n      <td>2014-02-15 22:54:27</td>\n      <td>1999-11-12 06:09:25</td>\n    </tr>\n    <tr>\n      <th>...</th>\n      <td>...</td>\n      <td>...</td>\n      <td>...</td>\n      <td>...</td>\n      <td>...</td>\n    </tr>\n    <tr>\n      <th>605634</th>\n      <td>cobbpatricia@anderson.biz</td>\n      <td>&lt;NA&gt;</td>\n      <td>False</td>\n      <td>2008-06-16 18:49:16</td>\n      <td>1999-10-23 22:19:10</td>\n    </tr>\n    <tr>\n      <th>605635</th>\n      <td>hjones@raymond-adkins.com</td>\n      <td>&lt;NA&gt;</td>\n      <td>True</td>\n      <td>2001-11-15 08:04:01</td>\n      <td>2010-08-24 07:06:01</td>\n    </tr>\n    <tr>\n      <th>605636</th>\n      <td>jennifer82@oneal.com</td>\n      <td>twitter</td>\n      <td>False</td>\n      <td>1973-06-14 08:14:54</td>\n      <td>1995-09-29 17:28:40</td>\n    </tr>\n    <tr>\n      <th>605637</th>\n      <td>robertodixon@wilson.net</td>\n      <td>google</td>\n      <td>False</td>\n      <td>1998-06-02 01:24:00</td>\n      <td>2014-06-01 11:16:45</td>\n    </tr>\n    <tr>\n      <th>605638</th>\n      <td>christie54@gmail.com</td>\n      <td>&lt;NA&gt;</td>\n      <td>False</td>\n      <td>1989-02-15 17:34:48</td>\n      <td>2020-04-30 19:39:18</td>\n    </tr>\n  </tbody>\n</table>\n<p>605639 rows × 5 columns</p>\n</div>"
     },
     "execution_count": 32,
     "metadata": {},
     "output_type": "execute_result"
    }
   ],
   "source": [
    "# rearranged columns according to schema\n",
    "people = people[['email', 'code', 'is_unsub', 'create_dt', 'updated_dt']]\n",
    "print(people.shape)\n",
    "people"
   ],
   "metadata": {
    "collapsed": false,
    "pycharm": {
     "name": "#%%\n"
    }
   }
  },
  {
   "cell_type": "markdown",
   "source": [
    "Finally, the dataframe is ready to be exported as a .CSV file"
   ],
   "metadata": {
    "collapsed": false,
    "pycharm": {
     "name": "#%% md\n"
    }
   }
  },
  {
   "cell_type": "code",
   "execution_count": 33,
   "outputs": [],
   "source": [
    "# export to csv file\n",
    "people.to_csv('people.csv')"
   ],
   "metadata": {
    "collapsed": false,
    "pycharm": {
     "name": "#%%\n"
    }
   }
  },
  {
   "cell_type": "markdown",
   "source": [
    "# Exercise 2\n",
    "\n",
    "Use the output of #1 to produce an “acquisition_facts” file with the following schema that aggregates stats about when people in the dataset were acquired. Save it to the working directory."
   ],
   "metadata": {
    "collapsed": false,
    "pycharm": {
     "name": "#%% md\n"
    }
   }
  },
  {
   "cell_type": "markdown",
   "source": [
    "<img src=\"schema2.png\" alt=\"Schema Exercise 2\" />"
   ],
   "metadata": {
    "collapsed": false,
    "pycharm": {
     "name": "#%% md\n"
    }
   }
  },
  {
   "cell_type": "markdown",
   "source": [
    "To do this I have used the people dataframe grouping by days using the create_dt column and count using the email column."
   ],
   "metadata": {
    "collapsed": false,
    "pycharm": {
     "name": "#%% md\n"
    }
   }
  },
  {
   "cell_type": "code",
   "execution_count": 34,
   "outputs": [
    {
     "name": "stdout",
     "output_type": "stream",
     "text": [
      "(18445, 2)\n"
     ]
    },
    {
     "data": {
      "text/plain": "   acquisition_date  acquisitions\n0        1970-01-01            28\n1        1970-01-02            34\n2        1970-01-03            27\n3        1970-01-04            36\n4        1970-01-05            39\n5        1970-01-06            33\n6        1970-01-07            33\n7        1970-01-08            28\n8        1970-01-09            35\n9        1970-01-10            36\n10       1970-01-11            33\n11       1970-01-12            24\n12       1970-01-13            26\n13       1970-01-14            35\n14       1970-01-15            28",
      "text/html": "<div>\n<style scoped>\n    .dataframe tbody tr th:only-of-type {\n        vertical-align: middle;\n    }\n\n    .dataframe tbody tr th {\n        vertical-align: top;\n    }\n\n    .dataframe thead th {\n        text-align: right;\n    }\n</style>\n<table border=\"1\" class=\"dataframe\">\n  <thead>\n    <tr style=\"text-align: right;\">\n      <th></th>\n      <th>acquisition_date</th>\n      <th>acquisitions</th>\n    </tr>\n  </thead>\n  <tbody>\n    <tr>\n      <th>0</th>\n      <td>1970-01-01</td>\n      <td>28</td>\n    </tr>\n    <tr>\n      <th>1</th>\n      <td>1970-01-02</td>\n      <td>34</td>\n    </tr>\n    <tr>\n      <th>2</th>\n      <td>1970-01-03</td>\n      <td>27</td>\n    </tr>\n    <tr>\n      <th>3</th>\n      <td>1970-01-04</td>\n      <td>36</td>\n    </tr>\n    <tr>\n      <th>4</th>\n      <td>1970-01-05</td>\n      <td>39</td>\n    </tr>\n    <tr>\n      <th>5</th>\n      <td>1970-01-06</td>\n      <td>33</td>\n    </tr>\n    <tr>\n      <th>6</th>\n      <td>1970-01-07</td>\n      <td>33</td>\n    </tr>\n    <tr>\n      <th>7</th>\n      <td>1970-01-08</td>\n      <td>28</td>\n    </tr>\n    <tr>\n      <th>8</th>\n      <td>1970-01-09</td>\n      <td>35</td>\n    </tr>\n    <tr>\n      <th>9</th>\n      <td>1970-01-10</td>\n      <td>36</td>\n    </tr>\n    <tr>\n      <th>10</th>\n      <td>1970-01-11</td>\n      <td>33</td>\n    </tr>\n    <tr>\n      <th>11</th>\n      <td>1970-01-12</td>\n      <td>24</td>\n    </tr>\n    <tr>\n      <th>12</th>\n      <td>1970-01-13</td>\n      <td>26</td>\n    </tr>\n    <tr>\n      <th>13</th>\n      <td>1970-01-14</td>\n      <td>35</td>\n    </tr>\n    <tr>\n      <th>14</th>\n      <td>1970-01-15</td>\n      <td>28</td>\n    </tr>\n  </tbody>\n</table>\n</div>"
     },
     "execution_count": 34,
     "metadata": {},
     "output_type": "execute_result"
    }
   ],
   "source": [
    "acquisition_facts = people.groupby([people['create_dt'].dt.date])['email'].count().reset_index()\n",
    "# rename columns\n",
    "acquisition_facts = acquisition_facts.rename(columns={'create_dt': 'acquisition_date', 'email': 'acquisitions'})\n",
    "print(acquisition_facts.shape)\n",
    "acquisition_facts.head(15)"
   ],
   "metadata": {
    "collapsed": false,
    "pycharm": {
     "name": "#%%\n"
    }
   }
  },
  {
   "cell_type": "markdown",
   "source": [
    "The dataframe is ready to be exported as a .CSV file"
   ],
   "metadata": {
    "collapsed": false,
    "pycharm": {
     "name": "#%% md\n"
    }
   }
  },
  {
   "cell_type": "code",
   "execution_count": 35,
   "outputs": [],
   "source": [
    "acquisition_facts.to_csv('acquisition_facts.csv')"
   ],
   "metadata": {
    "collapsed": false,
    "pycharm": {
     "name": "#%%\n"
    }
   }
  },
  {
   "cell_type": "markdown",
   "source": [
    "# Client Communications\n",
    "\n",
    "Consider the work you just completed in the Data Engineer Exercise. Please write no more than 2 paragraphs explaining to a client how you approached this task. Remember that clients do not need to know every process detail, but do want to understand how and why your choices contribute to our overall strategy and any benefits of the end product.\n"
   ],
   "metadata": {
    "collapsed": false,
    "pycharm": {
     "name": "#%% md\n"
    }
   }
  },
  {
   "cell_type": "markdown",
   "source": [
    "Thank you for the opportunity to work with you. According to the request received, three datasets were received, one from Constituent Information with 700,000 records and 29 columns, another from Constituent Email Addresses with 1,400,000 records and 16 columns and finally another with Constituent Subscription Status with 350,000 records and 6 columns. To answer the first question, We started with a merge between Constituent Information and Constituent Email Addresses using the cons_id key and using an inner join to guarantee all people with email. We have also only selected the records from cons_email where is_primary equals 1 according to requirement. With the above, a first version of the people dataset was obtained with the columns source, create_dt, modified_dt and e_mail in addition to the keys that were used to make the joins. With this result, a second merge was performed with the Constituent Subscription Status data using the cons_email_id key and a left join with which the isunsub column was added. We also filtered the dataset where chapter_id is 1 since we were given a requirement to remove all other chapte_ids in Constituent Subscription Status."
   ],
   "metadata": {
    "collapsed": false,
    "pycharm": {
     "name": "#%% md\n"
    }
   }
  },
  {
   "cell_type": "markdown",
   "source": [
    "Finally, the null values in the isunsub column of the result were changed to 0 according to the requirement (If an email is not present in this table, it is assumed to still be subscribed where chapter_id is 1). With the above, the result had the necessary columns, so We proceeded to eliminate the unnecessary columns (cons_id and cons_email_id). Next, the type of data and the name of the columns were also verified, and they were changed according to the schema provided. Finally, the result with 605,639 records and six columns was exported to a .CSV file. For the second exercise, the previous results were grouped by days using the create_dt column and count using the email column to obtain the number of acquisitions for each day. Then the columns were renamed according to the scheme. Finally, the result with 18,445 rows and two columns was exported to a .CSV file."
   ],
   "metadata": {
    "collapsed": false,
    "pycharm": {
     "name": "#%% md\n"
    }
   }
  },
  {
   "cell_type": "code",
   "execution_count": null,
   "outputs": [],
   "source": [],
   "metadata": {
    "collapsed": false,
    "pycharm": {
     "name": "#%%\n"
    }
   }
  }
 ],
 "metadata": {
  "kernelspec": {
   "display_name": "Python 3",
   "language": "python",
   "name": "python3"
  },
  "language_info": {
   "codemirror_mode": {
    "name": "ipython",
    "version": 2
   },
   "file_extension": ".py",
   "mimetype": "text/x-python",
   "name": "python",
   "nbconvert_exporter": "python",
   "pygments_lexer": "ipython2",
   "version": "2.7.6"
  }
 },
 "nbformat": 4,
 "nbformat_minor": 0
}